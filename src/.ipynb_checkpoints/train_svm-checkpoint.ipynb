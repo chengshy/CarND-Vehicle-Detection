{
 "cells": [
  {
   "cell_type": "code",
   "execution_count": 1,
   "metadata": {
    "collapsed": true,
    "deletable": true,
    "editable": true
   },
   "outputs": [],
   "source": [
    "import time\n",
    "import os\n",
    "import pickle\n",
    "import matplotlib.pyplot as plt\n",
    "from sklearn.svm import LinearSVC\n",
    "from sklearn.model_selection import train_test_split\n",
    "from sklearn.preprocessing import StandardScaler\n",
    "from scipy.ndimage.measurements import label\n",
    "from feature_extraction import *\n",
    "import glob"
   ]
  },
  {
   "cell_type": "markdown",
   "metadata": {
    "deletable": true,
    "editable": true
   },
   "source": [
    "## Settings"
   ]
  },
  {
   "cell_type": "code",
   "execution_count": 10,
   "metadata": {
    "collapsed": false,
    "deletable": true,
    "editable": true
   },
   "outputs": [],
   "source": [
    "spatial_feat = True # Spatial features on or off\n",
    "hist_feat = True # Histogram features on or off\n",
    "hog_feat = True # HOG features on or off\n",
    "\n",
    "colorspace = 'YCrCb' # RGB, HSV, LUV, HLS, YUV, YCrCb\n",
    "orient = 9  # HOG orientations\n",
    "pix_per_cell = 8 # HOG pixels per cell\n",
    "cell_per_block = 2 # HOG cells per block\n",
    "hog_channel = 'ALL' # Can be 0, 1, 2, or \"ALL\"\n",
    "spatial = 32 # Spatial binning dimensions\n",
    "histbin = 32 # Number of histogram bins"
   ]
  },
  {
   "cell_type": "markdown",
   "metadata": {
    "deletable": true,
    "editable": true
   },
   "source": [
    "## Reading dataset\n",
    "The GTI dataset is splited manually"
   ]
  },
  {
   "cell_type": "code",
   "execution_count": 3,
   "metadata": {
    "collapsed": false,
    "deletable": true,
    "editable": true
   },
   "outputs": [
    {
     "name": "stdout",
     "output_type": "stream",
     "text": [
      "GTI cars train dataset number: 2521\n",
      "GTI cars test dataset number: 305\n",
      "KITTI cars dataset number: 5966\n",
      "GTI notcars dataset number: 3900\n",
      "Extra notcars dataset number: 5068\n",
      "train size: 8072\n",
      "test size: 896\n",
      "train size: 5370\n",
      "test size: 596\n"
     ]
    }
   ],
   "source": [
    "cars_gti_train = glob.glob('../vehicles/GTI*/*.png')\n",
    "cars_gti_test = glob.glob('../vehicles/test_GTI*/*.png')\n",
    "cars_kitti = glob.glob('../vehicles/KITTI_extracted/*.png')\n",
    "notcars_gti = glob.glob('../non-vehicles/GTI/*.png')\n",
    "notcars_extra = glob.glob('../non-vehicles/Extras/*.png')\n",
    "\n",
    "print('GTI cars train dataset number: %d' % len(cars_gti_train))\n",
    "print('GTI cars test dataset number: %d' % len(cars_gti_test))\n",
    "print('KITTI cars dataset number: %d' % len(cars_kitti))\n",
    "print('GTI notcars dataset number: %d' % len(notcars_gti))\n",
    "print('Extra notcars dataset number: %d' % len(notcars_extra))\n",
    "\n",
    "\n",
    "import random\n",
    "def random_split_list(data, test_size = 0.1):\n",
    "    random.shuffle(data)\n",
    "    data_test_num = int(test_size * len(data))\n",
    "    data_train = data[data_test_num:]\n",
    "    data_test = data[:data_test_num]\n",
    "    print('train size: %d' % len(data_train))\n",
    "    print('test size: %d' % len(data_test))\n",
    "    return data_train, data_test\n",
    "    \n",
    "notcars = notcars_gti + notcars_extra\n",
    "\n",
    "test_size = 0.1\n",
    "notcars_train, notcars_test = random_split_list(notcars, test_size) \n",
    "cars_kitti_train, cars_kitti_test = random_split_list(cars_kitti, test_size)\n",
    "\n",
    "cars_train = cars_gti_train + cars_kitti_train\n",
    "cars_test = cars_gti_test + cars_kitti_test"
   ]
  },
  {
   "cell_type": "code",
   "execution_count": 4,
   "metadata": {
    "collapsed": false,
    "deletable": true,
    "editable": true
   },
   "outputs": [],
   "source": [
    "from sklearn.utils import shuffle\n",
    "def train_model(cars_train, notcars_train, cars_test, notcars_test):\n",
    "    t = time.time()\n",
    "    car_train_features = extract_features(cars_train, color_space = colorspace,\n",
    "                                    spatial_size = (spatial, spatial),\n",
    "                                    hist_bins = histbin, orient = orient,\n",
    "                                    pix_per_cell = pix_per_cell,\n",
    "                                    cell_per_block = cell_per_block,\n",
    "                                    hog_channel = hog_channel,\n",
    "                                    spatial_feat = spatial_feat,\n",
    "                                    hist_feat = hist_feat,\n",
    "                                    hog_feat = hog_feat)\n",
    "    \n",
    "    notcar_train_features = extract_features(notcars_train, color_space = colorspace,\n",
    "                                    spatial_size = (spatial, spatial),\n",
    "                                    hist_bins = histbin, orient = orient,\n",
    "                                    pix_per_cell = pix_per_cell,\n",
    "                                    cell_per_block = cell_per_block,\n",
    "                                    hog_channel = hog_channel,\n",
    "                                    spatial_feat = spatial_feat,\n",
    "                                    hist_feat = hist_feat,\n",
    "                                    hog_feat = hog_feat)\n",
    "    \n",
    "    car_test_features = extract_features(cars_test, color_space = colorspace,\n",
    "                                    spatial_size = (spatial, spatial),\n",
    "                                    hist_bins = histbin, orient = orient,\n",
    "                                    pix_per_cell = pix_per_cell,\n",
    "                                    cell_per_block = cell_per_block,\n",
    "                                    hog_channel = hog_channel,\n",
    "                                    spatial_feat = spatial_feat,\n",
    "                                    hist_feat = hist_feat,\n",
    "                                    hog_feat = hog_feat)\n",
    "    \n",
    "    notcar_test_features = extract_features(notcars_test, color_space = colorspace,\n",
    "                                    spatial_size = (spatial, spatial),\n",
    "                                    hist_bins = histbin, orient = orient,\n",
    "                                    pix_per_cell = pix_per_cell,\n",
    "                                    cell_per_block = cell_per_block,\n",
    "                                    hog_channel = hog_channel,\n",
    "                                    spatial_feat = spatial_feat,\n",
    "                                    hist_feat = hist_feat,\n",
    "                                    hog_feat = hog_feat)\n",
    "    \n",
    "    t1 = time.time()\n",
    "    print(round(t1-t, 2), 'Seconds to extract features ...')\n",
    "    \n",
    "    X_train = np.vstack((car_train_features, notcar_train_features)).astype(np.float64)\n",
    "    X_test = np.vstack((car_test_features, notcar_test_features)).astype(np.float64)\n",
    "    X_scaler = StandardScaler().fit(X_train)\n",
    "    X_train = X_scaler.transform(X_train)\n",
    "    X_test = X_scaler.transform(X_test)\n",
    "    y_train = np.hstack((np.ones(len(car_train_features)), np.zeros(len(notcar_train_features))))\n",
    "    y_test = np.hstack((np.ones(len(car_test_features)), np.zeros(len(notcar_test_features))))\n",
    "    \n",
    "    rand_state = np.random.randint(0,100)\n",
    "    X_train, y_train = shuffle(X_train, y_train, random_state = rand_state)\n",
    "    X_test, y_test = shuffle(X_test, y_test, random_state = rand_state)\n",
    "    \n",
    "    \n",
    "    print(\"Train dataset size: %d\" % len(X_train))\n",
    "    print(\"Test dataset size: %d\" % len(X_test))\n",
    "    \n",
    "    print('Color space:', colorspace, 'Spatial:', spatial, 'histbins:', histbin,\n",
    "          'Using:',orient,'orientations',pix_per_cell,\n",
    "          'pixels per cell and', cell_per_block,'cells per block')\n",
    "    print('Feature vector length:', len(X_train[0]))\n",
    "    \n",
    "    svc = LinearSVC()\n",
    "    t = time.time()\n",
    "    svc.fit(X_train, y_train)\n",
    "    t2 = time.time()\n",
    "    print(round(t2-t, 2), 'Seconds to train SVC ...')\n",
    "    print('Train Accuracy of SVC = ', round(svc.score(X_train, y_train), 4))\n",
    "    print('Test Accuracy of SVC = ', round(svc.score(X_test, y_test), 4))\n",
    "    return svc, X_scaler"
   ]
  },
  {
   "cell_type": "code",
   "execution_count": 11,
   "metadata": {
    "collapsed": false,
    "deletable": true,
    "editable": true
   },
   "outputs": [
    {
     "name": "stdout",
     "output_type": "stream",
     "text": [
      "84.18 Seconds to extract features ...\n",
      "Train dataset size: 15963\n",
      "Test dataset size: 1797\n",
      "Color space: YCrCb Spatial: 32 histbins: 32 Using: 9 orientations 8 pixels per cell and 2 cells per block\n",
      "Feature vector length: 8460\n",
      "28.36 Seconds to train SVC ...\n",
      "Train Accuracy of SVC =  1.0\n",
      "Test Accuracy of SVC =  0.9889\n"
     ]
    }
   ],
   "source": [
    "trained_model, X_scaler = train_model(cars_train, notcars_train, cars_test, notcars_test)"
   ]
  },
  {
   "cell_type": "code",
   "execution_count": 12,
   "metadata": {
    "collapsed": true,
    "deletable": true,
    "editable": true
   },
   "outputs": [],
   "source": [
    "data = {\n",
    "    'svc': trained_model,\n",
    "    'colorspace' : colorspace,\n",
    "    'orient' : orient,\n",
    "    'pix_per_cell' : pix_per_cell,\n",
    "    'cell_per_block' : cell_per_block,\n",
    "    'hog_channel' : hog_channel,\n",
    "    'spatial' : spatial,\n",
    "    'histbin' : histbin,\n",
    "    'X_scaler' : X_scaler\n",
    "    }\n",
    "\n",
    "with open('trained_svc_model.p', 'wb') as pickle_file:\n",
    "    pickle.dump(data, pickle_file)"
   ]
  },
  {
   "cell_type": "code",
   "execution_count": null,
   "metadata": {
    "collapsed": true
   },
   "outputs": [],
   "source": []
  }
 ],
 "metadata": {
  "kernelspec": {
   "display_name": "Python 3",
   "language": "python",
   "name": "python3"
  },
  "language_info": {
   "codemirror_mode": {
    "name": "ipython",
    "version": 3
   },
   "file_extension": ".py",
   "mimetype": "text/x-python",
   "name": "python",
   "nbconvert_exporter": "python",
   "pygments_lexer": "ipython3",
   "version": "3.5.2"
  },
  "widgets": {
   "state": {},
   "version": "1.1.2"
  }
 },
 "nbformat": 4,
 "nbformat_minor": 2
}
